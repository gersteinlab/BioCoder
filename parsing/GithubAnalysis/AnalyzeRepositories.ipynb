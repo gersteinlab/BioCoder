{
 "cells": [
  {
   "cell_type": "code",
   "execution_count": null,
   "metadata": {
    "ExecuteTime": {
     "end_time": "2023-08-21T19:50:35.886824Z",
     "start_time": "2023-08-21T19:50:34.533001Z"
    },
    "colab": {
     "base_uri": "https://localhost:8080/"
    },
    "id": "HlHBYe4knB1k",
    "outputId": "09a195d3-2ba0-412e-97be-ac4bbd324453"
   },
   "outputs": [],
   "source": [
    "!pip install requests pandas openpyxl"
   ]
  },
  {
   "cell_type": "code",
   "execution_count": null,
   "metadata": {
    "colab": {
     "base_uri": "https://localhost:8080/",
     "height": 545
    },
    "id": "JlkCAIWBnAz_",
    "outputId": "a304697e-4120-4cc1-9155-ca60446aca28"
   },
   "outputs": [],
   "source": [
    "import requests\n",
    "import subprocess\n",
    "\n",
    "# read excel file name with pandas\n",
    "import pandas as pd\n",
    "excel = pd.read_excel('data/pone.0205898.s005.xlsx')\n",
    "# iterate over the first column of excel file\n",
    "responses = []\n",
    "count=0\n",
    "for i in excel['repo_name']:\n",
    "    # url = \"https://api.github.com/repos/\" + i\n",
    "\n",
    "    url = \"https://github.com/\" + i + \".git\"\n",
    "    count +=1\n",
    "    print(str(count) + \" \" + url)\n",
    "    # clone repository with the URL\n",
    "    subprocess.run([\"git\", \"clone\", url, \"repos/\" + i.replace(\"/\", \"#\")])"
   ]
  },
  {
   "cell_type": "code",
   "execution_count": null,
   "metadata": {
    "collapsed": false
   },
   "outputs": [],
   "source": [
    "import os\n",
    "\n",
    "def count_size_of_files(root_dir):\n",
    "    total_size = 0\n",
    "    for dirpath, dirnames, filenames in os.walk(root_dir):\n",
    "        for filename in filenames:\n",
    "            ext = os.path.splitext(filename)[-1].lower()\n",
    "            if ext in ('.py', '.java', '.cpp', '.c', \".h\", \".php\", \".sh\", \".swift\", \".vb\", ):\n",
    "                filepath = os.path.join(dirpath, filename)\n",
    "                total_size += os.path.getsize(filepath)\n",
    "    return total_size\n",
    "\n",
    "root_dir = '/path/to/your/directory'\n",
    "total_size = count_size_of_files(root_dir)\n",
    "print(f\"Total size of files with .py, .java, .cpp, or .c extensions in {root_dir} is {total_size} bytes\")\n"
   ]
  },
  {
   "cell_type": "code",
   "execution_count": null,
   "metadata": {
    "id": "jdNYqenD6wtl"
   },
   "outputs": [],
   "source": [
    "import pickle\n",
    "with open(\"good.pickle\", \"wb\") as f:\n",
    "    pickle.dump(good, f)\n",
    "with open(\"bad.pickle\", \"wb\") as f:\n",
    "    pickle.dump(bad, f)"
   ]
  },
  {
   "cell_type": "code",
   "execution_count": null,
   "metadata": {
    "id": "pu3NIMMb7Jaa"
   },
   "outputs": [],
   "source": [
    "good_unique = list(set(good))\n",
    "bad_unique = list(set(bad))"
   ]
  },
  {
   "cell_type": "code",
   "execution_count": null,
   "metadata": {
    "colab": {
     "base_uri": "https://localhost:8080/",
     "height": 562
    },
    "id": "8aes8Y8W6vev",
    "outputId": "3cd0c246-eb29-4459-dd6f-f017c9721f65"
   },
   "outputs": [],
   "source": [
    "good1, bad1 = [], []\n",
    "# iterate over the first column of excel file\n",
    "for i in excel['repo_name']:\n",
    "    url = \"https://api.github.com/repos/\" + i\n",
    "    # url = \"https://github.com/\" + i\n",
    "    response = requests.get(url)\n",
    "    if (response.status_code == 200):\n",
    "        print(response.json()['default_branch'])\n",
    "        # download zip file from github\n",
    "        url = url+\"/zipball/\" + response.json()['default_branch']\n",
    "        print(url)\n",
    "        response = requests.get(url)\n",
    "        # save zip file\n",
    "        with open('repo.zip', 'wb') as f:\n",
    "            f.write(response.content)\n",
    "        break"
   ]
  }
 ],
 "metadata": {
  "colab": {
   "provenance": []
  },
  "gpuClass": "standard",
  "kernelspec": {
   "display_name": "Python 3 (ipykernel)",
   "language": "python",
   "name": "python3"
  },
  "language_info": {
   "name": "python"
  }
 },
 "nbformat": 4,
 "nbformat_minor": 0
}
